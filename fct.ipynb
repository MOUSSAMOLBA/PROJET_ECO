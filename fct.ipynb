{
 "cells": [
  {
   "cell_type": "code",
   "execution_count": 9,
   "metadata": {},
   "outputs": [],
   "source": [
    "import pandas as pd\n",
    "import numpy as np\n",
    "import matplotlib.pyplot as plt \n",
    "import seaborn as sns\n",
    "import missingno as msno\n",
    "from scipy.stats import skew, kurtosis"
   ]
  },
  {
   "cell_type": "code",
   "execution_count": 10,
   "metadata": {},
   "outputs": [],
   "source": [
    "def akposso_qt_tableau(vecteur):\n",
    "    # Calcul de l'effectif\n",
    "    T = vecteur.value_counts().sort_index()\n",
    "\n",
    "    # Cumul croissant et décroissant\n",
    "    Eff_Cum_crois = T.cumsum()\n",
    "    Eff_Cum_décrois = T.sum() - T.cumsum() + T\n",
    "\n",
    "    # Fréquences\n",
    "    Frequence = T / T.sum()\n",
    "    Freq_Cum_crois = Frequence.cumsum()\n",
    "    Freq_Cum_décrois = 1 - Frequence.cumsum() + Frequence\n",
    "\n",
    "    # Création du tableau\n",
    "    tab = pd.DataFrame({\n",
    "        'Effectifs': T,\n",
    "        'Eff_Cum_crois': Eff_Cum_crois,\n",
    "        'Eff_Cum_décrois': Eff_Cum_décrois,\n",
    "        'Frequence': Frequence,\n",
    "        'Freq_Cum_crois': Freq_Cum_crois,\n",
    "        'Freq_Cum_décrois': Freq_Cum_décrois\n",
    "    })\n",
    "\n",
    "    return tab"
   ]
  },
  {
   "cell_type": "code",
   "execution_count": 11,
   "metadata": {},
   "outputs": [],
   "source": [
    "def akposso_qt_resume(vecteur):\n",
    "    res1 = np.min(vecteur)\n",
    "    res2 = np.max(vecteur)\n",
    "    res3 = vecteur.mode().iloc[0] if not vecteur.mode().empty else np.nan\n",
    "    res4 = np.median(vecteur)\n",
    "    res5 = np.mean(vecteur)\n",
    "    res6 = np.percentile(vecteur, [0, 25, 50, 75, 100])\n",
    "    res7 = np.std(vecteur) / res5 if res5 != 0 else np.nan\n",
    "    res8 = np.var(vecteur)\n",
    "    res9 = np.std(vecteur)\n",
    "    res10 = skew(vecteur, nan_policy='omit')\n",
    "    interpskew = 'distribution étalée à gauche' if res10 < 0 else 'distribution étalée à droite'\n",
    "    res11 = kurtosis(vecteur, fisher=False, nan_policy='omit')\n",
    "    interpkurt = 'distribution platikurtique' if res11 < 3 else 'distribution leptokurtique'\n",
    "    \n",
    "    return {\n",
    "        'le minimum est ': res1,\n",
    "        'le maximum est ': res2,\n",
    "        'le mode est ': res3,\n",
    "        'la mediane est ': res4,\n",
    "        'la moyenne est ': res5,\n",
    "        'les quartiles sont': res6,\n",
    "        'le coefficient_variation est': res7,\n",
    "        'la variance est': res8,\n",
    "        'l’ecart_type est': res9,\n",
    "        'le coefficient_assymetrie ou skewness est': res10,\n",
    "        'interprétation_skewness': interpskew,\n",
    "        'le cofficent_applatissement ou Kurtosis est': res11,\n",
    "        'interprétation_kurtosis': interpkurt\n",
    "    }"
   ]
  },
  {
   "cell_type": "code",
   "execution_count": 12,
   "metadata": {},
   "outputs": [],
   "source": [
    "def akposso_qt_graph(vecteur):\n",
    "    fig, axs = plt.subplots(2, 2, figsize=(8, 6))\n",
    "    \n",
    "    # Diagramme en bâton\n",
    "    axs[0, 0].hist(vecteur, bins=np.arange(vecteur.min(), vecteur.max()+2) - 0.5, rwidth=0.8, align='mid')\n",
    "    axs[0, 0].set_title('Diagramme en Baton')\n",
    "    axs[0, 0].set_xlabel('Valeur')\n",
    "    axs[0, 0].set_ylabel('Effectif')\n",
    "\n",
    "    # Diagramme en escalier pour les fréquences cumulées\n",
    "    axs[0, 1].hist(vecteur, bins=np.arange(vecteur.min(), vecteur.max()+2) - 0.5, cumulative=True, histtype='step', rwidth=0.8, align='mid')\n",
    "    axs[0, 1].set_title('Diagramme en Escalier')\n",
    "    axs[0, 1].set_xlabel('Valeur')\n",
    "    axs[0, 1].set_ylabel('Fréquence Cumulée')\n",
    "\n",
    "    # Histogramme\n",
    "    axs[1, 0].hist(vecteur, bins=10, color='green')\n",
    "    axs[1, 0].set_title('Histogramme')\n",
    "    axs[1, 0].set_xlabel('Valeur')\n",
    "    axs[1, 0].set_ylabel('Effectif')\n",
    "\n",
    "    # Boîte à moustache\n",
    "    axs[1, 1].boxplot(vecteur, vert=False)\n",
    "    axs[1, 1].set_title('Boîte à moustache')\n",
    "    axs[1, 1].set_xlabel('Valeur')\n",
    "\n",
    "    plt.tight_layout()\n",
    "    plt.show()"
   ]
  }
 ],
 "metadata": {
  "kernelspec": {
   "display_name": "base",
   "language": "python",
   "name": "python3"
  },
  "language_info": {
   "codemirror_mode": {
    "name": "ipython",
    "version": 3
   },
   "file_extension": ".py",
   "mimetype": "text/x-python",
   "name": "python",
   "nbconvert_exporter": "python",
   "pygments_lexer": "ipython3",
   "version": "3.11.9"
  }
 },
 "nbformat": 4,
 "nbformat_minor": 2
}
