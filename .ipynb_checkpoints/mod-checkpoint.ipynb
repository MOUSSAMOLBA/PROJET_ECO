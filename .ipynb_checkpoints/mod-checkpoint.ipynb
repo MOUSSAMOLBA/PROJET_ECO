{
 "cells": [
  {
   "cell_type": "markdown",
   "id": "ab8e689b-8bba-4f96-bb2d-4b459c3ee9ce",
   "metadata": {},
   "source": [
    "## PROJET ECONOMETRIE SUR PYTHON"
   ]
  },
  {
   "cell_type": "markdown",
   "id": "7de0aa6f-f5a1-4893-834f-ebbbadc24228",
   "metadata": {},
   "source": [
    "## INTRODUCTION"
   ]
  },
  {
   "cell_type": "markdown",
   "id": "5c06aa4c-0d93-468a-bc56-6f74ecc31174",
   "metadata": {},
   "source": [
    "Le jeu de données faisant l’objet de cette analyse est relatif à des données d’assurance. Il contient 2765 clients d’une \n",
    "société d’assurance IARD (assurance non vie), assurance auto"
   ]
  },
  {
   "cell_type": "markdown",
   "id": "2573c648-d0ff-4b81-82d5-0af35a7090a8",
   "metadata": {},
   "source": [
    "## Importation des packages"
   ]
  },
  {
   "cell_type": "code",
   "execution_count": 2,
   "id": "1aac6132-5a0b-4170-82c0-a8c345100097",
   "metadata": {},
   "outputs": [
    {
     "ename": "ModuleNotFoundError",
     "evalue": "No module named 'pandas'",
     "output_type": "error",
     "traceback": [
      "\u001b[1;31m---------------------------------------------------------------------------\u001b[0m",
      "\u001b[1;31mModuleNotFoundError\u001b[0m                       Traceback (most recent call last)",
      "Cell \u001b[1;32mIn[2], line 1\u001b[0m\n\u001b[1;32m----> 1\u001b[0m \u001b[38;5;28;01mimport\u001b[39;00m \u001b[38;5;21;01mpandas\u001b[39;00m \u001b[38;5;28;01mas\u001b[39;00m \u001b[38;5;21;01mpd\u001b[39;00m\n",
      "\u001b[1;31mModuleNotFoundError\u001b[0m: No module named 'pandas'"
     ]
    }
   ],
   "source": [
    "import pandas as pd\n"
   ]
  },
  {
   "cell_type": "markdown",
   "id": "297e5172-7103-4217-8f71-61710fbeb8bf",
   "metadata": {},
   "source": [
    "## Importation des donnees et analyse descriptive"
   ]
  },
  {
   "cell_type": "code",
   "execution_count": null,
   "id": "302c3b71-109b-48e6-b04d-c14f69b1bea3",
   "metadata": {},
   "outputs": [],
   "source": [
    "# Importation du jeu de donnée\n"
   ]
  }
 ],
 "metadata": {
  "kernelspec": {
   "display_name": "Python 3 (ipykernel)",
   "language": "python",
   "name": "python3"
  },
  "language_info": {
   "codemirror_mode": {
    "name": "ipython",
    "version": 3
   },
   "file_extension": ".py",
   "mimetype": "text/x-python",
   "name": "python",
   "nbconvert_exporter": "python",
   "pygments_lexer": "ipython3",
   "version": "3.12.2"
  }
 },
 "nbformat": 4,
 "nbformat_minor": 5
}
